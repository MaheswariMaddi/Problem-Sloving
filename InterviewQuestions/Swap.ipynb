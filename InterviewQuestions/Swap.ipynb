{
 "cells": [
  {
   "cell_type": "code",
   "execution_count": 11,
   "metadata": {},
   "outputs": [
    {
     "name": "stdout",
     "output_type": "stream",
     "text": [
      "Before swaping a=45.0 b=98.0\n",
      "after Swaping a=98.0 b=45.0\n"
     ]
    }
   ],
   "source": [
    "#Swap varibles without using Temp\n",
    "a=float(input(\"Enter va;ue for a:\"))\n",
    "b=float(input(\"Enter value for b:\"))\n",
    "print(f\"Before swaping a={a} b={b}\")\n",
    "a=a-b\n",
    "b=a+b\n",
    "a=b-a\n",
    "print(f\"after Swaping a={a} b={b}\")             \n",
    " "
   ]
  },
  {
   "cell_type": "code",
   "execution_count": 12,
   "metadata": {},
   "outputs": [
    {
     "name": "stdout",
     "output_type": "stream",
     "text": [
      "Before swaping a=45.0 b=8765.0\n",
      "after Swaping a=8765.0 b=45.0\n"
     ]
    }
   ],
   "source": [
    "#Swap varibles by using Temp or thid Variable\n",
    "a=float(input(\"Enter va;ue for a:\"))\n",
    "b=float(input(\"Enter value for b:\"))\n",
    "print(f\"Before swaping a={a} b={b}\")\n",
    "temp=a\n",
    "a=b\n",
    "b=temp\n",
    "print(f\"after Swaping a={a} b={b}\")        \n",
    "    "
   ]
  },
  {
   "cell_type": "code",
   "execution_count": 1,
   "metadata": {},
   "outputs": [
    {
     "name": "stdout",
     "output_type": "stream",
     "text": [
      "Before swaping a=34.0 b=67.0\n",
      "after Swaping a=67.0 b=34.0\n"
     ]
    }
   ],
   "source": [
    "#Swap varibles by using assigning operator\n",
    "a=float(input(\"Enter va;ue for a:\"))\n",
    "b=float(input(\"Enter value for b:\"))\n",
    "print(f\"Before swaping a={a} b={b}\")\n",
    "a,b=b,a\n",
    "print(f\"after Swaping a={a} b={b}\")  "
   ]
  }
 ],
 "metadata": {
  "kernelspec": {
   "display_name": "Python 3",
   "language": "python",
   "name": "python3"
  },
  "language_info": {
   "codemirror_mode": {
    "name": "ipython",
    "version": 3
   },
   "file_extension": ".py",
   "mimetype": "text/x-python",
   "name": "python",
   "nbconvert_exporter": "python",
   "pygments_lexer": "ipython3",
   "version": "3.10.11"
  }
 },
 "nbformat": 4,
 "nbformat_minor": 2
}
